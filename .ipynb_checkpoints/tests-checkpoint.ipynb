{
 "cells": [
  {
   "cell_type": "code",
   "execution_count": 1,
   "metadata": {},
   "outputs": [],
   "source": [
    "import networkx as nx\n",
    "import os\n",
    "import matplotlib.pyplot as plt\n",
    "from networkx.algorithms.dominating import is_dominating_set\n",
    "from networkx.algorithms.bipartite import is_bipartite\n",
    "from networkx.algorithms.bipartite.matching import *\n",
    "from networkx.algorithms.bipartite.covering import *"
   ]
  },
  {
   "cell_type": "code",
   "execution_count": 55,
   "metadata": {},
   "outputs": [],
   "source": [
    "folder_path = \"/Users/Loïc/Desktop/AlgoAvancé/Dominant/public_dataset/\"\n",
    "filename= \"36_50_reg.graph\""
   ]
  },
  {
   "cell_type": "code",
   "execution_count": 126,
   "metadata": {},
   "outputs": [
    {
     "name": "stdout",
     "output_type": "stream",
     "text": [
      "{'5', '2'}\n",
      "{'9', '1'}\n",
      "{'6', '1'}\n",
      "{'7', '6'}\n",
      "{'7', '9'}\n",
      "{'21', '12', '38'}\n",
      "{'3', '13', '31'}\n",
      "{'31', '13', '37', '46'}\n",
      "{'3', '1', '33'}\n",
      "{'13', '14', '8', '46'}\n",
      "{'3', '43', '71', '27'}\n",
      "{'3', '79', '10'}\n",
      "{'3', '68', '93'}\n",
      "{'53', '19', '71', '97'}\n",
      "{'44', '89', '32', '68'}\n",
      "{'3', '0'}\n",
      "{'2', '1', '5'}\n",
      "{'2', '0'}\n",
      "{'3', '1'}\n",
      "{'3', '2'}\n",
      "{'6', '8', '0', '37', '4', '33', '2', '1', '24'}\n",
      "{'0', '10', '7', '5', '3', '2', '1'}\n",
      "{'8', '5', '32', '3', '4', '14', '33', '20', '9', '2', '1'}\n",
      "{'36', '21', '23', '0', '5', '19', '25', '3', '20', '22', '2', '13', '31'}\n",
      "{'11', '15', '17', '23', '0', '5', '3', '33', '22', '2', '1'}\n",
      "{'21', '91', '8', '0', '10', '7', '5', '34', '53', '25', '16', '3', '14', '22', '2', '13', '30'}\n",
      "{'11', '15', '36', '8', '0', '10', '29', '80', '12', '33', '20', '59', '2', '1', '13', '42'}\n",
      "{'6', '21', '8', '0', '10', '18', '7', '71', '12', '89', '3', '55', '4', '52', '2', '1', '30'}\n",
      "{'48', '78', '11', '17', '0', '16', '4', '32', '55', '2', '1', '24', '75', '8', '71', '7', '53', '41', '3'}\n",
      "{'64', '21', '17', '8', '0', '12', '32', '27', '16', '40', '4', '5', '1', '28', '2', '31', '46'}\n",
      "{'6', '5', '2', '0'}\n",
      "{'3', '1', '4', '8'}\n",
      "{'3', '5', '9', '0'}\n",
      "{'3', '9', '2', '7'}\n",
      "{'9', '2', '3', '0'}\n",
      "{'17', '23', '26', '5', '49', '39', '40', '3', '27', '47', '33', '22', '2', '1', '28', '31', '48'}\n",
      "{'6', '21', '17', '37', '29', '10', '7', '27', '16', '3', '24', '4', '33', '22', '5', '42', '46'}\n",
      "{'37', '38', '7', '34', '12', '32', '25', '40', '39', '27', '20', '22', '2', '1', '13', '26', '46'}\n",
      "{'15', '17', '8', '38', '49', '12', '19', '27', '41', '16', '25', '40', '20', '9', '1', '28', '48'}\n",
      "{'44', '21', '26', '38', '10', '34', '19', '45', '27', '41', '16', '20', '35', '5', '13', '42', '24'}\n",
      "{'36', '10', '40', '50', '62', '86', '43', '26', '64', '83', '17', '0', '88', '25', '90', '16', '70', '4', '59', '85', '54', '23', '37', '99', '32', '14', '24', '21', '57', '66', '3', '93', '46', '87'}\n",
      "{'15', '10', '51', '83', '82', '6', '80', '25', '70', '58', '90', '4', '35', '74', '59', '28', '76', '98', '54', '55', '2', '42', '24', '92', '21', '8', '56', '7', '53', '89', '66', '41', '52', '95'}\n",
      "{'97', '10', '19', '69', '45', '40', '9', '62', '39', '83', '48', '64', '6', '0', '38', '12', '33', '59', '28', '73', '85', '67', '63', '55', '1', '42', '24', '77', '75', '92', '8', '89', '46', '84'}\n",
      "{'10', '97', '40', '50', '39', '51', '26', '43', '30', '11', '65', '86', '29', '38', '0', '80', '90', '16', '74', '85', '98', '18', '67', '99', '32', '20', '1', '42', '77', '91', '72', '7', '57', '84'}\n",
      "{'15', '49', '45', '9', '62', '94', '48', '82', '0', '88', '12', '70', '90', '58', '25', '33', '47', '59', '73', '76', '85', '23', '18', '99', '14', '20', '77', '24', '75', '79', '8', '52', '93', '46'}\n"
     ]
    }
   ],
   "source": [
    "for filename in os.listdir(folder_path):\n",
    "#     if \"10_paw\" in filename :\n",
    "        g = nx.read_adjlist(os.path.join(folder_path, filename))\n",
    "        print(dominant(g))\n",
    "#         print(\"{} : {} edges\".format(filename, g.number_of_edges()))\n",
    "#         nx.draw_networkx(g)\n",
    "#         plt.show()\n"
   ]
  },
  {
   "cell_type": "code",
   "execution_count": 124,
   "metadata": {},
   "outputs": [],
   "source": [
    "def dominant(g):\n",
    "    \"\"\"\n",
    "        A Faire:         \n",
    "        - Ecrire une fonction qui retourne le dominant du graphe non dirigé g passé en parametre.\n",
    "        - cette fonction doit retourner la liste des noeuds d'un petit dominant de g\n",
    "\n",
    "        :param g: le graphe est donné dans le format networkx : https://networkx.github.io/documentation/stable/reference/classes/graph.html\n",
    "    \"\"\"\n",
    "    paw = False\n",
    "\n",
    "    all_nodes = set(g)\n",
    "    neighbours_nb = {}\n",
    "    for node in all_nodes :\n",
    "        neighbours_nb[g.degree[node]] = node\n",
    "\n",
    "    # if g.number_of_edges() == 2*g.number_of_nodes() - 4 : #Paw graph case\n",
    "    #     paw = True\n",
    "\n",
    "    if len(neighbours_nb) == 1 and (g.number_of_nodes() == g.number_of_edges()) : # Cycle graph case\n",
    "        return cycle_dominant(g)\n",
    "\n",
    "    else : # greedy algorithm\n",
    "\n",
    "        if paw :\n",
    "            keys = list(neighbours_nb.keys())\n",
    "            keys.sort()\n",
    "            try :\n",
    "                max_neighbours = keys[-2]\n",
    "            except :# if len(max_neighbours) == 1\n",
    "                max_neighbours = keys[-1]\n",
    "            paw = False\n",
    "        else :\n",
    "            max_neighbours = max(neighbours_nb.keys())\n",
    "\n",
    "        max_node = neighbours_nb[max_neighbours]        \n",
    "        dominating_set = {max_node}\n",
    "        not_selected = all_nodes - {max_node}\n",
    "        all_nodes = all_nodes - set(g[max_node]) - {max_node}\n",
    "        g = g.subgraph(not_selected)\n",
    "\n",
    "        while all_nodes :\n",
    "\n",
    "            neighbours_nb = {}\n",
    "            for node in not_selected :\n",
    "                remaining_reighbours = []\n",
    "                for node2 in list(g[node]) :\n",
    "                    if node2 in all_nodes :\n",
    "                        remaining_reighbours.append(node2)\n",
    "                neighbours_nb[len(remaining_reighbours)] = node\n",
    "\n",
    "            if len(neighbours_nb) == 1 and (g.number_of_nodes() == g.number_of_edges()) : # Cycle graph case\n",
    "                dominating_set |= cycle_dominant(g)\n",
    "                return dominating_set\n",
    "\n",
    "            if paw :\n",
    "                keys = list(neighbours_nb.keys())\n",
    "                keys.sort()\n",
    "                try :\n",
    "                    max_neighbours = keys[-2]\n",
    "                except :# if len(max_neighbours) == 1\n",
    "                    max_neighbours = keys[-1]\n",
    "            else :\n",
    "                max_neighbours = max(neighbours_nb.keys())\n",
    "\n",
    "            max_node = neighbours_nb[max_neighbours]\n",
    "            dominating_set.add(max_node)\n",
    "\n",
    "            not_selected = not_selected - {max_node}\n",
    "            all_nodes = all_nodes - set(g[max_node]) - {max_node}\n",
    "            g = g.subgraph(not_selected)\n",
    "\n",
    "    return dominating_set"
   ]
  },
  {
   "cell_type": "code",
   "execution_count": 21,
   "metadata": {},
   "outputs": [],
   "source": [
    "def cycle_dominant(g) :\n",
    "    dominant_set = set()\n",
    "    ordered_graph = order_cycle_graph(g)\n",
    "    for i in range(0, len(ordered_graph), 3):\n",
    "        dominant_set.add(ordered_graph[i])\n",
    "    return dominant_set"
   ]
  },
  {
   "cell_type": "code",
   "execution_count": 102,
   "metadata": {},
   "outputs": [],
   "source": [
    "def order_cycle_graph(g) :\n",
    "    first_node = list(g.nodes)[0] #take 1st node\n",
    "    result = [first_node] # result list\n",
    "    result.append(list(g[first_node])[0]) # add 1st neigbour\n",
    "    while len(result) != g.order() : # while we don't have all nodes sorted\n",
    "        neighbours = list(g[result[-1]]) #get last nodes neighbours\n",
    "        neighbours.remove(result[-2]) # remove sorted neighbour\n",
    "        result.append(neighbours[0]) # add last neighbour\n",
    "    return result"
   ]
  },
  {
   "cell_type": "code",
   "execution_count": 56,
   "metadata": {},
   "outputs": [],
   "source": [
    "g = nx.read_adjlist(os.path.join(folder_path, filename))"
   ]
  },
  {
   "cell_type": "code",
   "execution_count": 125,
   "metadata": {},
   "outputs": [
    {
     "name": "stdout",
     "output_type": "stream",
     "text": [
      "{'3', '0'}\n"
     ]
    }
   ],
   "source": [
    "folder_path = \"/Users/Loïc/Desktop/AlgoAvancé/Dominant/public_dataset/\"\n",
    "filename= \"16_10_paw.graph\"\n",
    "g = nx.read_adjlist(os.path.join(folder_path, filename))\n",
    "print(dominant(g))"
   ]
  },
  {
   "cell_type": "code",
   "execution_count": 31,
   "metadata": {
    "collapsed": true
   },
   "outputs": [
    {
     "data": {
      "text/plain": [
       "['0',\n",
       " '44',\n",
       " '5',\n",
       " '12',\n",
       " '28',\n",
       " '46',\n",
       " '32',\n",
       " '17',\n",
       " '41',\n",
       " '25',\n",
       " '31',\n",
       " '9',\n",
       " '15',\n",
       " '26',\n",
       " '19',\n",
       " '20',\n",
       " '40',\n",
       " '35',\n",
       " '21',\n",
       " '2',\n",
       " '30',\n",
       " '42',\n",
       " '22',\n",
       " '14',\n",
       " '29',\n",
       " '23',\n",
       " '37',\n",
       " '13',\n",
       " '39',\n",
       " '11',\n",
       " '38',\n",
       " '3',\n",
       " '45',\n",
       " '34',\n",
       " '1',\n",
       " '4',\n",
       " '18',\n",
       " '49',\n",
       " '6',\n",
       " '8',\n",
       " '27',\n",
       " '24',\n",
       " '10',\n",
       " '48',\n",
       " '16',\n",
       " '43',\n",
       " '47',\n",
       " '36',\n",
       " '7',\n",
       " '33']"
      ]
     },
     "execution_count": 31,
     "metadata": {},
     "output_type": "execute_result"
    }
   ],
   "source": [
    "order_cycle_graph(g)"
   ]
  },
  {
   "cell_type": "code",
   "execution_count": 32,
   "metadata": {
    "collapsed": true
   },
   "outputs": [
    {
     "data": {
      "text/plain": [
       "{'0',\n",
       " '10',\n",
       " '12',\n",
       " '13',\n",
       " '15',\n",
       " '18',\n",
       " '20',\n",
       " '21',\n",
       " '25',\n",
       " '29',\n",
       " '32',\n",
       " '34',\n",
       " '38',\n",
       " '42',\n",
       " '43',\n",
       " '7',\n",
       " '8'}"
      ]
     },
     "execution_count": 32,
     "metadata": {},
     "output_type": "execute_result"
    }
   ],
   "source": [
    "cycle_dominant(g)"
   ]
  },
  {
   "cell_type": "code",
   "execution_count": null,
   "metadata": {},
   "outputs": [],
   "source": [
    "print(dominant(g))"
   ]
  },
  {
   "cell_type": "code",
   "execution_count": 73,
   "metadata": {},
   "outputs": [
    {
     "data": {
      "image/png": "[encoded data removed]",
      "text/plain": [
       "<Figure size 432x288 with 1 Axes>"
      ]
     },
     "metadata": {},
     "output_type": "display_data"
    }
   ],
   "source": [
    "nx.draw_networkx(g)\n",
    "plt.show()"
   ]
  },
  {
   "cell_type": "code",
   "execution_count": 62,
   "metadata": {},
   "outputs": [],
   "source": [
    "h = g.subgraph([\"0\",\"44\",\"5\",\"12\",\"28\",\"46\"])"
   ]
  },
  {
   "cell_type": "code",
   "execution_count": 63,
   "metadata": {},
   "outputs": [
    {
     "data": {
      "image/png": "[encoded data removed]",
      "text/plain": [
       "<Figure size 432x288 with 1 Axes>"
      ]
     },
     "metadata": {},
     "output_type": "display_data"
    }
   ],
   "source": [
    "nx.draw_networkx(h)\n",
    "plt.show()"
   ]
  },
  {
   "cell_type": "code",
   "execution_count": 40,
   "metadata": {},
   "outputs": [
    {
     "data": {
      "text/plain": [
       "[0, 1, 2, 3, 4, 5, 6, 7, 8]"
      ]
     },
     "execution_count": 40,
     "metadata": {},
     "output_type": "execute_result"
    }
   ],
   "source": [
    "a = [i for i in range(0,9)]\n",
    "a"
   ]
  },
  {
   "cell_type": "code",
   "execution_count": 42,
   "metadata": {},
   "outputs": [
    {
     "name": "stdout",
     "output_type": "stream",
     "text": [
      "0\n",
      "3\n",
      "6\n"
     ]
    }
   ],
   "source": [
    "for i in range(0, len(a),3) :\n",
    "    print(i)"
   ]
  },
  {
   "cell_type": "code",
   "execution_count": 44,
   "metadata": {},
   "outputs": [
    {
     "data": {
      "text/plain": [
       "{'1', '2', '3'}"
      ]
     },
     "execution_count": 44,
     "metadata": {},
     "output_type": "execute_result"
    }
   ],
   "source": [
    "a = set([\"1\", \"2\", \"3\"])\n",
    "a"
   ]
  },
  {
   "cell_type": "code",
   "execution_count": 50,
   "metadata": {},
   "outputs": [
    {
     "data": {
      "text/plain": [
       "{'4', '5', '6'}"
      ]
     },
     "execution_count": 50,
     "metadata": {},
     "output_type": "execute_result"
    }
   ],
   "source": [
    "b = set([\"4\", \"5\", \"6\"])\n",
    "b"
   ]
  },
  {
   "cell_type": "code",
   "execution_count": 51,
   "metadata": {},
   "outputs": [
    {
     "data": {
      "text/plain": [
       "{'1', '2', '3', '4', '5', '6'}"
      ]
     },
     "execution_count": 51,
     "metadata": {},
     "output_type": "execute_result"
    }
   ],
   "source": [
    "a |= b\n",
    "a"
   ]
  },
  {
   "cell_type": "code",
   "execution_count": 110,
   "metadata": {},
   "outputs": [
    {
     "data": {
      "image/png": "[encoded data removed]",
      "text/plain": [
       "<Figure size 432x288 with 1 Axes>"
      ]
     },
     "metadata": {},
     "output_type": "display_data"
    }
   ],
   "source": [
    "nx.draw_networkx(g)\n",
    "plt.show()"
   ]
  },
  {
   "cell_type": "code",
   "execution_count": 118,
   "metadata": {},
   "outputs": [
    {
     "name": "stdout",
     "output_type": "stream",
     "text": [
      "3\n",
      "['0', '1', '4', '6', '7', '9']\n"
     ]
    },
    {
     "data": {
      "image/png": "[encoded data removed]",
      "text/plain": [
       "<Figure size 432x288 with 1 Axes>"
      ]
     },
     "metadata": {},
     "output_type": "display_data"
    },
    {
     "name": "stdout",
     "output_type": "stream",
     "text": [
      "0 : 6\n",
      "1 : 8\n",
      "3 : 0\n",
      "1 : 7\n",
      "1 : 5\n",
      "0 : 4\n",
      "0 : 9\n",
      "2 : 2\n",
      "1 : 1\n"
     ]
    },
    {
     "data": {
      "image/png": "[encoded data removed]",
      "text/plain": [
       "<Figure size 432x288 with 1 Axes>"
      ]
     },
     "metadata": {},
     "output_type": "display_data"
    },
    {
     "data": {
      "image/png": "[encoded data removed]",
      "text/plain": [
       "<Figure size 432x288 with 1 Axes>"
      ]
     },
     "metadata": {},
     "output_type": "display_data"
    },
    {
     "data": {
      "text/plain": [
       "{0: '9', 1: '1', 3: '0', 2: '2'}"
      ]
     },
     "execution_count": 118,
     "metadata": {},
     "output_type": "execute_result"
    }
   ],
   "source": [
    "remaining_nodes = set(g)\n",
    "neighbours_nb = {}\n",
    "for node in remaining_nodes :\n",
    "    neighbours_nb[g.degree[node]] = node\n",
    "\n",
    "max_neighbours = max(neighbours_nb.keys())\n",
    "max_node = neighbours_nb[max_neighbours]\n",
    "print(max_node)\n",
    "print(list(g[max_node]))\n",
    "dominating_set = {max_node}\n",
    "\n",
    "g_graph = remaining_nodes - {max_node}\n",
    "remaining_nodes = remaining_nodes - {max_node} - set(g[max_node])\n",
    "\n",
    "nx.draw_networkx(g)\n",
    "plt.show()\n",
    "\n",
    "neighbours_nb = {}\n",
    "for node in g_graph :\n",
    "    remaining_reighbours = []\n",
    "    for node2 in list(g[node]) :\n",
    "        if node2 in remaining_nodes :\n",
    "            remaining_reighbours.append(node2)\n",
    "    print(\"{} : {}\".format(len(remaining_reighbours), node))\n",
    "    neighbours_nb[len(remaining_reighbours)] = node\n",
    "\n",
    "g_prime = g.subgraph(g_graph)\n",
    "nx.draw_networkx(g_prime)\n",
    "plt.show()\n",
    "\n",
    "h = g.subgraph(remaining_nodes)\n",
    "nx.draw_networkx(h)\n",
    "plt.show()\n",
    "\n",
    "neighbours_nb"
   ]
  },
  {
   "cell_type": "code",
   "execution_count": 83,
   "metadata": {},
   "outputs": [],
   "source": [
    "a = list(neighbors_nb.keys()).sort()"
   ]
  },
  {
   "cell_type": "code",
   "execution_count": 85,
   "metadata": {},
   "outputs": [
    {
     "ename": "TypeError",
     "evalue": "'NoneType' object is not subscriptable",
     "output_type": "error",
     "traceback": [
      "\u001b[1;31m---------------------------------------------------------------------------\u001b[0m",
      "\u001b[1;31mTypeError\u001b[0m                                 Traceback (most recent call last)",
      "\u001b[1;32m<ipython-input-85-72069be183a9>\u001b[0m in \u001b[0;36m<module>\u001b[1;34m\u001b[0m\n\u001b[1;32m----> 1\u001b[1;33m \u001b[0ma\u001b[0m\u001b[1;33m[\u001b[0m\u001b[1;33m-\u001b[0m\u001b[1;36m2\u001b[0m\u001b[1;33m]\u001b[0m\u001b[1;33m\u001b[0m\u001b[1;33m\u001b[0m\u001b[0m\n\u001b[0m",
      "\u001b[1;31mTypeError\u001b[0m: 'NoneType' object is not subscriptable"
     ]
    }
   ],
   "source": []
  }
 ],
 "metadata": {
  "kernelspec": {
   "display_name": "Python 3",
   "language": "python",
   "name": "python3"
  },
  "language_info": {
   "codemirror_mode": {
    "name": "ipython",
    "version": 3
   },
   "file_extension": ".py",
   "mimetype": "text/x-python",
   "name": "python",
   "nbconvert_exporter": "python",
   "pygments_lexer": "ipython3",
   "version": "3.7.1"
  }
 },
 "nbformat": 4,
 "nbformat_minor": 2
}
