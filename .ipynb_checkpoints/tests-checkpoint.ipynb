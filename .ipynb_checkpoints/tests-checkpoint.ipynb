{
 "cells": [
  {
   "cell_type": "code",
   "execution_count": 1,
   "metadata": {},
   "outputs": [],
   "source": [
    "import networkx as nx\n",
    "import os\n",
    "import matplotlib.pyplot as plt\n",
    "from networkx.algorithms.dominating import is_dominating_set\n",
    "from networkx.algorithms.bipartite import is_bipartite\n",
    "from networkx.algorithms.bipartite.matching import *\n",
    "from networkx.algorithms.bipartite.covering import *"
   ]
  },
  {
   "cell_type": "code",
   "execution_count": 55,
   "metadata": {},
   "outputs": [],
   "source": [
    "folder_path = \"/Users/Loïc/Desktop/AlgoAvancé/Dominant/public_dataset/\"\n",
    "filename= \"36_50_reg.graph\""
   ]
  },
  {
   "cell_type": "code",
   "execution_count": 101,
   "metadata": {},
   "outputs": [
    {
     "name": "stdout",
     "output_type": "stream",
     "text": [
      "{'5', '2'}\n",
      "{'9', '5'}\n",
      "{'6', '8'}\n",
      "{'7', '6'}\n",
      "{'7', '2', '4'}\n",
      "{'19', '17', '29', '38'}\n",
      "{'49', '33', '39', '13', '31'}\n",
      "{'44', '7', '12', '40', '13', '48'}\n",
      "{'12', '33', '20', '35'}\n",
      "{'2', '4', '14', '35'}\n",
      "{'21', '27', '90', '62', '78'}\n",
      "{'88', '3', '59', '73', '46'}\n",
      "{'88', '66', '3', '50', '93'}\n",
      "{'37', '53', '60', '35', '59'}\n",
      "{'44', '49', '17', '71'}\n",
      "paw\n",
      "{'9', '2', '4', '6'}\n",
      "paw\n",
      "{'5', '1', '0'}\n",
      "paw\n",
      "{'7', '2', '6'}\n",
      "paw\n",
      "{'1', '8', '0'}\n",
      "paw\n",
      "{'5', '4', '0'}\n",
      "paw\n",
      "{'10', '45', '9', '39', '48', '30', '29', '34', '12', '25', '47', '22', '28', '37', '32', '1', '7', '31', '46'}\n",
      "paw\n",
      "{'36', '23', '37', '0', '29', '7', '19', '27', '16', '40', '4', '33', '35', '22', '5', '13', '48'}\n",
      "paw\n",
      "{'36', '10', '19', '39', '48', '43', '11', '29', '38', '34', '25', '16', '33', '44', '18', '2', '8', '7', '41', '13'}\n",
      "paw\n",
      "{'40', '39', '26', '43', '30', '17', '0', '34', '33', '22', '28', '37', '1', '42', '24', '21', '8', '41', '31', '46'}\n",
      "paw\n",
      "{'10', '19', '45', '6', '0', '38', '29', '25', '27', '4', '47', '33', '28', '44', '20', '24', '8', '7', '13', '46'}\n",
      "paw\n",
      "{'97', '69', '40', '84', '61', '9', '26', '83', '81', '17', '29', '38', '34', '80', '88', '90', '47', '74', '73', '85', '44', '23', '37', '63', '55', '20', '2', '42', '24', '79', '92', '71', '56', '7', '53', '66', '95', '87'}\n",
      "paw\n",
      "{'15', '10', '97', '49', '19', '84', '61', '62', '95', '94', '86', '43', '30', '82', '6', '29', '0', '88', '27', '35', '76', '73', '85', '98', '54', '63', '99', '14', '79', '75', '91', '89', '66', '41', '52', '93', '13', '46', '87'}\n",
      "paw\n",
      "{'10', '97', '69', '84', '40', '50', '62', '95', '86', '43', '83', '82', '26', '88', '27', '58', '70', '47', '73', '59', '74', '85', '96', '98', '54', '99', '32', '2', '77', '79', '92', '91', '72', '56', '7', '53', '66', '60', '41', '93', '5', '13', '68', '87'}\n",
      "paw\n"
     ]
    },
    {
     "ename": "KeyError",
     "evalue": "'Key 0 not found'",
     "output_type": "error",
     "traceback": [
      "\u001b[1;31m---------------------------------------------------------------------------\u001b[0m",
      "\u001b[1;31mKeyError\u001b[0m                                  Traceback (most recent call last)",
      "\u001b[1;32m<ipython-input-101-7c49bdad8cf8>\u001b[0m in \u001b[0;36m<module>\u001b[1;34m\u001b[0m\n\u001b[0;32m      2\u001b[0m \u001b[1;31m#     if \"10_paw\" in filename :\u001b[0m\u001b[1;33m\u001b[0m\u001b[1;33m\u001b[0m\u001b[1;33m\u001b[0m\u001b[0m\n\u001b[0;32m      3\u001b[0m         \u001b[0mg\u001b[0m \u001b[1;33m=\u001b[0m \u001b[0mnx\u001b[0m\u001b[1;33m.\u001b[0m\u001b[0mread_adjlist\u001b[0m\u001b[1;33m(\u001b[0m\u001b[0mos\u001b[0m\u001b[1;33m.\u001b[0m\u001b[0mpath\u001b[0m\u001b[1;33m.\u001b[0m\u001b[0mjoin\u001b[0m\u001b[1;33m(\u001b[0m\u001b[0mfolder_path\u001b[0m\u001b[1;33m,\u001b[0m \u001b[0mfilename\u001b[0m\u001b[1;33m)\u001b[0m\u001b[1;33m)\u001b[0m\u001b[1;33m\u001b[0m\u001b[1;33m\u001b[0m\u001b[0m\n\u001b[1;32m----> 4\u001b[1;33m         \u001b[0mprint\u001b[0m\u001b[1;33m(\u001b[0m\u001b[0mdominant\u001b[0m\u001b[1;33m(\u001b[0m\u001b[0mg\u001b[0m\u001b[1;33m)\u001b[0m\u001b[1;33m)\u001b[0m\u001b[1;33m\u001b[0m\u001b[1;33m\u001b[0m\u001b[0m\n\u001b[0m\u001b[0;32m      5\u001b[0m \u001b[1;31m#         print(\"{} : {} edges\".format(filename, g.number_of_edges()))\u001b[0m\u001b[1;33m\u001b[0m\u001b[1;33m\u001b[0m\u001b[1;33m\u001b[0m\u001b[0m\n\u001b[0;32m      6\u001b[0m \u001b[1;31m#         nx.draw_networkx(g)\u001b[0m\u001b[1;33m\u001b[0m\u001b[1;33m\u001b[0m\u001b[1;33m\u001b[0m\u001b[0m\n",
      "\u001b[1;32m<ipython-input-100-b3276b850579>\u001b[0m in \u001b[0;36mdominant\u001b[1;34m(g)\u001b[0m\n\u001b[0;32m     45\u001b[0m \u001b[1;33m\u001b[0m\u001b[0m\n\u001b[0;32m     46\u001b[0m             \u001b[1;32mif\u001b[0m \u001b[0mlen\u001b[0m\u001b[1;33m(\u001b[0m\u001b[0mneighbours_nb\u001b[0m\u001b[1;33m)\u001b[0m \u001b[1;33m==\u001b[0m \u001b[1;36m1\u001b[0m \u001b[1;32mand\u001b[0m \u001b[1;33m(\u001b[0m\u001b[0mg\u001b[0m\u001b[1;33m.\u001b[0m\u001b[0mnumber_of_nodes\u001b[0m\u001b[1;33m(\u001b[0m\u001b[1;33m)\u001b[0m \u001b[1;33m==\u001b[0m \u001b[0mg\u001b[0m\u001b[1;33m.\u001b[0m\u001b[0mnumber_of_edges\u001b[0m\u001b[1;33m(\u001b[0m\u001b[1;33m)\u001b[0m\u001b[1;33m)\u001b[0m \u001b[1;33m:\u001b[0m \u001b[1;31m# Cycle graph case\u001b[0m\u001b[1;33m\u001b[0m\u001b[1;33m\u001b[0m\u001b[0m\n\u001b[1;32m---> 47\u001b[1;33m                 \u001b[0mdominating_set\u001b[0m \u001b[1;33m|=\u001b[0m \u001b[0mcycle_dominant\u001b[0m\u001b[1;33m(\u001b[0m\u001b[0mg\u001b[0m\u001b[1;33m)\u001b[0m\u001b[1;33m\u001b[0m\u001b[1;33m\u001b[0m\u001b[0m\n\u001b[0m\u001b[0;32m     48\u001b[0m                 \u001b[1;32mreturn\u001b[0m \u001b[0mdominating_set\u001b[0m\u001b[1;33m\u001b[0m\u001b[1;33m\u001b[0m\u001b[0m\n\u001b[0;32m     49\u001b[0m \u001b[1;33m\u001b[0m\u001b[0m\n",
      "\u001b[1;32m<ipython-input-21-ec826c501029>\u001b[0m in \u001b[0;36mcycle_dominant\u001b[1;34m(g)\u001b[0m\n\u001b[0;32m      1\u001b[0m \u001b[1;32mdef\u001b[0m \u001b[0mcycle_dominant\u001b[0m\u001b[1;33m(\u001b[0m\u001b[0mg\u001b[0m\u001b[1;33m)\u001b[0m \u001b[1;33m:\u001b[0m\u001b[1;33m\u001b[0m\u001b[1;33m\u001b[0m\u001b[0m\n\u001b[0;32m      2\u001b[0m     \u001b[0mdominant_set\u001b[0m \u001b[1;33m=\u001b[0m \u001b[0mset\u001b[0m\u001b[1;33m(\u001b[0m\u001b[1;33m)\u001b[0m\u001b[1;33m\u001b[0m\u001b[1;33m\u001b[0m\u001b[0m\n\u001b[1;32m----> 3\u001b[1;33m     \u001b[0mordered_graph\u001b[0m \u001b[1;33m=\u001b[0m \u001b[0morder_cycle_graph\u001b[0m\u001b[1;33m(\u001b[0m\u001b[0mg\u001b[0m\u001b[1;33m)\u001b[0m\u001b[1;33m\u001b[0m\u001b[1;33m\u001b[0m\u001b[0m\n\u001b[0m\u001b[0;32m      4\u001b[0m     \u001b[1;32mfor\u001b[0m \u001b[0mi\u001b[0m \u001b[1;32min\u001b[0m \u001b[0mrange\u001b[0m\u001b[1;33m(\u001b[0m\u001b[1;36m0\u001b[0m\u001b[1;33m,\u001b[0m \u001b[0mlen\u001b[0m\u001b[1;33m(\u001b[0m\u001b[0mordered_graph\u001b[0m\u001b[1;33m)\u001b[0m\u001b[1;33m,\u001b[0m \u001b[1;36m3\u001b[0m\u001b[1;33m)\u001b[0m\u001b[1;33m:\u001b[0m\u001b[1;33m\u001b[0m\u001b[1;33m\u001b[0m\u001b[0m\n\u001b[0;32m      5\u001b[0m         \u001b[0mdominant_set\u001b[0m\u001b[1;33m.\u001b[0m\u001b[0madd\u001b[0m\u001b[1;33m(\u001b[0m\u001b[0mordered_graph\u001b[0m\u001b[1;33m[\u001b[0m\u001b[0mi\u001b[0m\u001b[1;33m]\u001b[0m\u001b[1;33m)\u001b[0m\u001b[1;33m\u001b[0m\u001b[1;33m\u001b[0m\u001b[0m\n",
      "\u001b[1;32m<ipython-input-17-3beccedb30d1>\u001b[0m in \u001b[0;36morder_cycle_graph\u001b[1;34m(g)\u001b[0m\n\u001b[0;32m      1\u001b[0m \u001b[1;32mdef\u001b[0m \u001b[0morder_cycle_graph\u001b[0m\u001b[1;33m(\u001b[0m\u001b[0mg\u001b[0m\u001b[1;33m)\u001b[0m \u001b[1;33m:\u001b[0m\u001b[1;33m\u001b[0m\u001b[1;33m\u001b[0m\u001b[0m\n\u001b[0;32m      2\u001b[0m     \u001b[0mresult\u001b[0m \u001b[1;33m=\u001b[0m \u001b[1;33m[\u001b[0m\u001b[1;34m\"0\"\u001b[0m\u001b[1;33m]\u001b[0m\u001b[1;33m\u001b[0m\u001b[1;33m\u001b[0m\u001b[0m\n\u001b[1;32m----> 3\u001b[1;33m     \u001b[0mresult\u001b[0m\u001b[1;33m.\u001b[0m\u001b[0mappend\u001b[0m\u001b[1;33m(\u001b[0m\u001b[0mlist\u001b[0m\u001b[1;33m(\u001b[0m\u001b[0mg\u001b[0m\u001b[1;33m[\u001b[0m\u001b[1;34m\"0\"\u001b[0m\u001b[1;33m]\u001b[0m\u001b[1;33m)\u001b[0m\u001b[1;33m[\u001b[0m\u001b[1;36m0\u001b[0m\u001b[1;33m]\u001b[0m\u001b[1;33m)\u001b[0m\u001b[1;33m\u001b[0m\u001b[1;33m\u001b[0m\u001b[0m\n\u001b[0m\u001b[0;32m      4\u001b[0m     \u001b[1;32mwhile\u001b[0m \u001b[0mlen\u001b[0m\u001b[1;33m(\u001b[0m\u001b[0mresult\u001b[0m\u001b[1;33m)\u001b[0m \u001b[1;33m!=\u001b[0m \u001b[0mg\u001b[0m\u001b[1;33m.\u001b[0m\u001b[0morder\u001b[0m\u001b[1;33m(\u001b[0m\u001b[1;33m)\u001b[0m \u001b[1;33m:\u001b[0m\u001b[1;33m\u001b[0m\u001b[1;33m\u001b[0m\u001b[0m\n\u001b[0;32m      5\u001b[0m         \u001b[0mneighbours\u001b[0m \u001b[1;33m=\u001b[0m \u001b[0mlist\u001b[0m\u001b[1;33m(\u001b[0m\u001b[0mg\u001b[0m\u001b[1;33m[\u001b[0m\u001b[0mresult\u001b[0m\u001b[1;33m[\u001b[0m\u001b[1;33m-\u001b[0m\u001b[1;36m1\u001b[0m\u001b[1;33m]\u001b[0m\u001b[1;33m]\u001b[0m\u001b[1;33m)\u001b[0m\u001b[1;33m\u001b[0m\u001b[1;33m\u001b[0m\u001b[0m\n",
      "\u001b[1;32m~\\AppData\\Roaming\\Python\\Python37\\site-packages\\networkx\\classes\\graph.py\u001b[0m in \u001b[0;36m__getitem__\u001b[1;34m(self, n)\u001b[0m\n\u001b[0;32m    463\u001b[0m         \u001b[0mAtlasView\u001b[0m\u001b[1;33m(\u001b[0m\u001b[1;33m{\u001b[0m\u001b[1;36m1\u001b[0m\u001b[1;33m:\u001b[0m \u001b[1;33m{\u001b[0m\u001b[1;33m}\u001b[0m\u001b[1;33m}\u001b[0m\u001b[1;33m)\u001b[0m\u001b[1;33m\u001b[0m\u001b[1;33m\u001b[0m\u001b[0m\n\u001b[0;32m    464\u001b[0m         \"\"\"\n\u001b[1;32m--> 465\u001b[1;33m         \u001b[1;32mreturn\u001b[0m \u001b[0mself\u001b[0m\u001b[1;33m.\u001b[0m\u001b[0madj\u001b[0m\u001b[1;33m[\u001b[0m\u001b[0mn\u001b[0m\u001b[1;33m]\u001b[0m\u001b[1;33m\u001b[0m\u001b[1;33m\u001b[0m\u001b[0m\n\u001b[0m\u001b[0;32m    466\u001b[0m \u001b[1;33m\u001b[0m\u001b[0m\n\u001b[0;32m    467\u001b[0m     \u001b[1;32mdef\u001b[0m \u001b[0madd_node\u001b[0m\u001b[1;33m(\u001b[0m\u001b[0mself\u001b[0m\u001b[1;33m,\u001b[0m \u001b[0mnode_for_adding\u001b[0m\u001b[1;33m,\u001b[0m \u001b[1;33m**\u001b[0m\u001b[0mattr\u001b[0m\u001b[1;33m)\u001b[0m\u001b[1;33m:\u001b[0m\u001b[1;33m\u001b[0m\u001b[1;33m\u001b[0m\u001b[0m\n",
      "\u001b[1;32m~\\AppData\\Roaming\\Python\\Python37\\site-packages\\networkx\\classes\\coreviews.py\u001b[0m in \u001b[0;36m__getitem__\u001b[1;34m(self, name)\u001b[0m\n\u001b[0;32m     77\u001b[0m \u001b[1;33m\u001b[0m\u001b[0m\n\u001b[0;32m     78\u001b[0m     \u001b[1;32mdef\u001b[0m \u001b[0m__getitem__\u001b[0m\u001b[1;33m(\u001b[0m\u001b[0mself\u001b[0m\u001b[1;33m,\u001b[0m \u001b[0mname\u001b[0m\u001b[1;33m)\u001b[0m\u001b[1;33m:\u001b[0m\u001b[1;33m\u001b[0m\u001b[1;33m\u001b[0m\u001b[0m\n\u001b[1;32m---> 79\u001b[1;33m         \u001b[1;32mreturn\u001b[0m \u001b[0mAtlasView\u001b[0m\u001b[1;33m(\u001b[0m\u001b[0mself\u001b[0m\u001b[1;33m.\u001b[0m\u001b[0m_atlas\u001b[0m\u001b[1;33m[\u001b[0m\u001b[0mname\u001b[0m\u001b[1;33m]\u001b[0m\u001b[1;33m)\u001b[0m\u001b[1;33m\u001b[0m\u001b[1;33m\u001b[0m\u001b[0m\n\u001b[0m\u001b[0;32m     80\u001b[0m \u001b[1;33m\u001b[0m\u001b[0m\n\u001b[0;32m     81\u001b[0m     \u001b[1;32mdef\u001b[0m \u001b[0mcopy\u001b[0m\u001b[1;33m(\u001b[0m\u001b[0mself\u001b[0m\u001b[1;33m)\u001b[0m\u001b[1;33m:\u001b[0m\u001b[1;33m\u001b[0m\u001b[1;33m\u001b[0m\u001b[0m\n",
      "\u001b[1;32m~\\AppData\\Roaming\\Python\\Python37\\site-packages\\networkx\\classes\\coreviews.py\u001b[0m in \u001b[0;36m__getitem__\u001b[1;34m(self, node)\u001b[0m\n\u001b[0;32m    325\u001b[0m \u001b[1;33m\u001b[0m\u001b[0m\n\u001b[0;32m    326\u001b[0m             \u001b[1;32mreturn\u001b[0m \u001b[0mFilterAtlas\u001b[0m\u001b[1;33m(\u001b[0m\u001b[0mself\u001b[0m\u001b[1;33m.\u001b[0m\u001b[0m_atlas\u001b[0m\u001b[1;33m[\u001b[0m\u001b[0mnode\u001b[0m\u001b[1;33m]\u001b[0m\u001b[1;33m,\u001b[0m \u001b[0mnew_node_ok\u001b[0m\u001b[1;33m)\u001b[0m\u001b[1;33m\u001b[0m\u001b[1;33m\u001b[0m\u001b[0m\n\u001b[1;32m--> 327\u001b[1;33m         \u001b[1;32mraise\u001b[0m \u001b[0mKeyError\u001b[0m\u001b[1;33m(\u001b[0m\u001b[1;34mf\"Key {node} not found\"\u001b[0m\u001b[1;33m)\u001b[0m\u001b[1;33m\u001b[0m\u001b[1;33m\u001b[0m\u001b[0m\n\u001b[0m\u001b[0;32m    328\u001b[0m \u001b[1;33m\u001b[0m\u001b[0m\n\u001b[0;32m    329\u001b[0m     \u001b[1;32mdef\u001b[0m \u001b[0mcopy\u001b[0m\u001b[1;33m(\u001b[0m\u001b[0mself\u001b[0m\u001b[1;33m)\u001b[0m\u001b[1;33m:\u001b[0m\u001b[1;33m\u001b[0m\u001b[1;33m\u001b[0m\u001b[0m\n",
      "\u001b[1;31mKeyError\u001b[0m: 'Key 0 not found'"
     ]
    }
   ],
   "source": [
    "for filename in os.listdir(folder_path):\n",
    "#     if \"10_paw\" in filename :\n",
    "        g = nx.read_adjlist(os.path.join(folder_path, filename))\n",
    "        print(dominant(g))\n",
    "#         print(\"{} : {} edges\".format(filename, g.number_of_edges()))\n",
    "#         nx.draw_networkx(g)\n",
    "#         plt.show()\n"
   ]
  },
  {
   "cell_type": "code",
   "execution_count": 100,
   "metadata": {},
   "outputs": [],
   "source": [
    "def dominant(g):\n",
    "    \"\"\"\n",
    "        A Faire:         \n",
    "        - Ecrire une fonction qui retourne le dominant du graphe non dirigé g passé en parametre.\n",
    "        - cette fonction doit retourner la liste des noeuds d'un petit dominant de g\n",
    "\n",
    "        :param g: le graphe est donné dans le format networkx : https://networkx.github.io/documentation/stable/reference/classes/graph.html\n",
    "    \"\"\"\n",
    "    paw = False\n",
    "\n",
    "    all_nodes = set(g)\n",
    "    neighbours_nb = {}\n",
    "    for node in all_nodes :\n",
    "        neighbours_nb[g.degree[node]] = node\n",
    "\n",
    "    if g.number_of_edges() == 2*g.number_of_nodes() - 4 : #Paw graph case\n",
    "        print(\"paw\")\n",
    "        paw = True\n",
    "\n",
    "    if len(neighbours_nb) == 1 and (g.number_of_nodes() == g.number_of_edges()) : # Cycle graph case\n",
    "        return cycle_dominant(g)\n",
    "\n",
    "    else : # greedy algorithm\n",
    "\n",
    "        if paw :\n",
    "            keys = list(neighbours_nb.keys())\n",
    "            keys.sort()\n",
    "            try :\n",
    "                max_neighbours = keys[-2]\n",
    "            except :# if len(max_neighbours) == 1\n",
    "                max_neighbours = keys[-1]\n",
    "        else :\n",
    "            max_neighbours = max(neighbours_nb.keys())\n",
    "\n",
    "        max_node = neighbours_nb[max_neighbours]        \n",
    "        dominating_set = {max_node}\n",
    "        all_nodes = all_nodes - set(g[max_node]) - {max_node}\n",
    "        g = g.subgraph(all_nodes)\n",
    "\n",
    "        while all_nodes :\n",
    "\n",
    "            neighbours_nb = {}\n",
    "            for node in all_nodes :\n",
    "                neighbours_nb[g.degree[node]] = node\n",
    "\n",
    "            if len(neighbours_nb) == 1 and (g.number_of_nodes() == g.number_of_edges()) : # Cycle graph case\n",
    "                dominating_set |= cycle_dominant(g)\n",
    "                return dominating_set\n",
    "\n",
    "            if paw :\n",
    "                keys = list(neighbours_nb.keys())\n",
    "                keys.sort()\n",
    "                try :\n",
    "                    max_neighbours = keys[-2]\n",
    "                except :# if len(max_neighbours) == 1\n",
    "                    max_neighbours = keys[-1]\n",
    "            else :\n",
    "                max_neighbours = max(neighbours_nb.keys())\n",
    "\n",
    "            max_node = neighbours_nb[max_neighbours]\n",
    "            dominating_set.add(max_node)\n",
    "            all_nodes = all_nodes - set(g[max_node]) - {max_node}\n",
    "            g = g.subgraph(all_nodes)\n",
    "\n",
    "    return dominating_set"
   ]
  },
  {
   "cell_type": "code",
   "execution_count": 21,
   "metadata": {},
   "outputs": [],
   "source": [
    "def cycle_dominant(g) :\n",
    "    dominant_set = set()\n",
    "    ordered_graph = order_cycle_graph(g)\n",
    "    for i in range(0, len(ordered_graph), 3):\n",
    "        dominant_set.add(ordered_graph[i])\n",
    "    return dominant_set"
   ]
  },
  {
   "cell_type": "code",
   "execution_count": 17,
   "metadata": {},
   "outputs": [],
   "source": [
    "def order_cycle_graph(g) :\n",
    "    first_node = list(g.nodes)[0] #take 1st node\n",
    "    result = [first_node] # result list\n",
    "    result.append(list(g[first_node])[0]) # add 1st neigbour\n",
    "    while len(result) != g.order() : # while we don't have all nodes sorted\n",
    "        neighbours = list(g[result[-1]]) #get last nodes neighbours\n",
    "        neighbours.remove(result[-2]) # remove sorted neighbour\n",
    "        result.append(neighbours[0]) # add last neighbour\n",
    "    return result"
   ]
  },
  {
   "cell_type": "code",
   "execution_count": 56,
   "metadata": {},
   "outputs": [],
   "source": [
    "g = nx.read_adjlist(os.path.join(folder_path, filename))"
   ]
  },
  {
   "cell_type": "code",
   "execution_count": 90,
   "metadata": {},
   "outputs": [
    {
     "name": "stdout",
     "output_type": "stream",
     "text": [
      "{'3', '2'}\n"
     ]
    }
   ],
   "source": [
    "folder_path = \"/Users/Loïc/Desktop/AlgoAvancé/Dominant/public_dataset/\"\n",
    "filename= \"16_10_paw.graph\"\n",
    "g = nx.read_adjlist(os.path.join(folder_path, filename))\n",
    "print(dominant(g))"
   ]
  },
  {
   "cell_type": "code",
   "execution_count": 31,
   "metadata": {
    "collapsed": true
   },
   "outputs": [
    {
     "data": {
      "text/plain": [
       "['0',\n",
       " '44',\n",
       " '5',\n",
       " '12',\n",
       " '28',\n",
       " '46',\n",
       " '32',\n",
       " '17',\n",
       " '41',\n",
       " '25',\n",
       " '31',\n",
       " '9',\n",
       " '15',\n",
       " '26',\n",
       " '19',\n",
       " '20',\n",
       " '40',\n",
       " '35',\n",
       " '21',\n",
       " '2',\n",
       " '30',\n",
       " '42',\n",
       " '22',\n",
       " '14',\n",
       " '29',\n",
       " '23',\n",
       " '37',\n",
       " '13',\n",
       " '39',\n",
       " '11',\n",
       " '38',\n",
       " '3',\n",
       " '45',\n",
       " '34',\n",
       " '1',\n",
       " '4',\n",
       " '18',\n",
       " '49',\n",
       " '6',\n",
       " '8',\n",
       " '27',\n",
       " '24',\n",
       " '10',\n",
       " '48',\n",
       " '16',\n",
       " '43',\n",
       " '47',\n",
       " '36',\n",
       " '7',\n",
       " '33']"
      ]
     },
     "execution_count": 31,
     "metadata": {},
     "output_type": "execute_result"
    }
   ],
   "source": [
    "order_cycle_graph(g)"
   ]
  },
  {
   "cell_type": "code",
   "execution_count": 32,
   "metadata": {
    "collapsed": true
   },
   "outputs": [
    {
     "data": {
      "text/plain": [
       "{'0',\n",
       " '10',\n",
       " '12',\n",
       " '13',\n",
       " '15',\n",
       " '18',\n",
       " '20',\n",
       " '21',\n",
       " '25',\n",
       " '29',\n",
       " '32',\n",
       " '34',\n",
       " '38',\n",
       " '42',\n",
       " '43',\n",
       " '7',\n",
       " '8'}"
      ]
     },
     "execution_count": 32,
     "metadata": {},
     "output_type": "execute_result"
    }
   ],
   "source": [
    "cycle_dominant(g)"
   ]
  },
  {
   "cell_type": "code",
   "execution_count": null,
   "metadata": {},
   "outputs": [],
   "source": [
    "print(dominant(g))"
   ]
  },
  {
   "cell_type": "code",
   "execution_count": 73,
   "metadata": {},
   "outputs": [
    {
     "data": {
      "image/png": "[encoded data removed]",
      "text/plain": [
       "<Figure size 432x288 with 1 Axes>"
      ]
     },
     "metadata": {},
     "output_type": "display_data"
    }
   ],
   "source": [
    "nx.draw_networkx(g)\n",
    "plt.show()"
   ]
  },
  {
   "cell_type": "code",
   "execution_count": 62,
   "metadata": {},
   "outputs": [],
   "source": [
    "h = g.subgraph([\"0\",\"44\",\"5\",\"12\",\"28\",\"46\"])"
   ]
  },
  {
   "cell_type": "code",
   "execution_count": 63,
   "metadata": {},
   "outputs": [
    {
     "data": {
      "image/png": "[encoded data removed]",
      "text/plain": [
       "<Figure size 432x288 with 1 Axes>"
      ]
     },
     "metadata": {},
     "output_type": "display_data"
    }
   ],
   "source": [
    "nx.draw_networkx(h)\n",
    "plt.show()"
   ]
  },
  {
   "cell_type": "code",
   "execution_count": 40,
   "metadata": {},
   "outputs": [
    {
     "data": {
      "text/plain": [
       "[0, 1, 2, 3, 4, 5, 6, 7, 8]"
      ]
     },
     "execution_count": 40,
     "metadata": {},
     "output_type": "execute_result"
    }
   ],
   "source": [
    "a = [i for i in range(0,9)]\n",
    "a"
   ]
  },
  {
   "cell_type": "code",
   "execution_count": 42,
   "metadata": {},
   "outputs": [
    {
     "name": "stdout",
     "output_type": "stream",
     "text": [
      "0\n",
      "3\n",
      "6\n"
     ]
    }
   ],
   "source": [
    "for i in range(0, len(a),3) :\n",
    "    print(i)"
   ]
  },
  {
   "cell_type": "code",
   "execution_count": 44,
   "metadata": {},
   "outputs": [
    {
     "data": {
      "text/plain": [
       "{'1', '2', '3'}"
      ]
     },
     "execution_count": 44,
     "metadata": {},
     "output_type": "execute_result"
    }
   ],
   "source": [
    "a = set([\"1\", \"2\", \"3\"])\n",
    "a"
   ]
  },
  {
   "cell_type": "code",
   "execution_count": 50,
   "metadata": {},
   "outputs": [
    {
     "data": {
      "text/plain": [
       "{'4', '5', '6'}"
      ]
     },
     "execution_count": 50,
     "metadata": {},
     "output_type": "execute_result"
    }
   ],
   "source": [
    "b = set([\"4\", \"5\", \"6\"])\n",
    "b"
   ]
  },
  {
   "cell_type": "code",
   "execution_count": 51,
   "metadata": {},
   "outputs": [
    {
     "data": {
      "text/plain": [
       "{'1', '2', '3', '4', '5', '6'}"
      ]
     },
     "execution_count": 51,
     "metadata": {},
     "output_type": "execute_result"
    }
   ],
   "source": [
    "a |= b\n",
    "a"
   ]
  },
  {
   "cell_type": "code",
   "execution_count": 75,
   "metadata": {},
   "outputs": [],
   "source": [
    "all_nodes = set(g)\n",
    "neighbors_nb = {}\n",
    "for node in all_nodes :\n",
    "    neighbors_nb[g.degree[node]] = node"
   ]
  },
  {
   "cell_type": "code",
   "execution_count": 83,
   "metadata": {},
   "outputs": [],
   "source": [
    "a = list(neighbors_nb.keys()).sort()"
   ]
  },
  {
   "cell_type": "code",
   "execution_count": 85,
   "metadata": {},
   "outputs": [
    {
     "ename": "TypeError",
     "evalue": "'NoneType' object is not subscriptable",
     "output_type": "error",
     "traceback": [
      "\u001b[1;31m---------------------------------------------------------------------------\u001b[0m",
      "\u001b[1;31mTypeError\u001b[0m                                 Traceback (most recent call last)",
      "\u001b[1;32m<ipython-input-85-72069be183a9>\u001b[0m in \u001b[0;36m<module>\u001b[1;34m\u001b[0m\n\u001b[1;32m----> 1\u001b[1;33m \u001b[0ma\u001b[0m\u001b[1;33m[\u001b[0m\u001b[1;33m-\u001b[0m\u001b[1;36m2\u001b[0m\u001b[1;33m]\u001b[0m\u001b[1;33m\u001b[0m\u001b[1;33m\u001b[0m\u001b[0m\n\u001b[0m",
      "\u001b[1;31mTypeError\u001b[0m: 'NoneType' object is not subscriptable"
     ]
    }
   ],
   "source": []
  }
 ],
 "metadata": {
  "kernelspec": {
   "display_name": "Python 3",
   "language": "python",
   "name": "python3"
  },
  "language_info": {
   "codemirror_mode": {
    "name": "ipython",
    "version": 3
   },
   "file_extension": ".py",
   "mimetype": "text/x-python",
   "name": "python",
   "nbconvert_exporter": "python",
   "pygments_lexer": "ipython3",
   "version": "3.7.1"
  }
 },
 "nbformat": 4,
 "nbformat_minor": 2
}
