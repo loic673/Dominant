{
 "cells": [
  {
   "cell_type": "code",
   "execution_count": 1,
   "metadata": {},
   "outputs": [],
   "source": [
    "import networkx as nx\n",
    "import os\n",
    "import matplotlib.pyplot as plt\n",
    "from networkx.algorithms.dominating import is_dominating_set\n",
    "from networkx.algorithms.bipartite import is_bipartite\n",
    "from networkx.algorithms.bipartite.matching import *\n",
    "from networkx.algorithms.bipartite.covering import *"
   ]
  },
  {
   "cell_type": "code",
   "execution_count": 55,
   "metadata": {},
   "outputs": [],
   "source": [
    "folder_path = \"/Users/Loïc/Desktop/AlgoAvancé/Dominant/public_dataset/\"\n",
    "filename= \"36_50_reg.graph\""
   ]
  },
  {
   "cell_type": "code",
   "execution_count": 54,
   "metadata": {},
   "outputs": [
    {
     "name": "stdout",
     "output_type": "stream",
     "text": [
      "{'5', '2'}\n",
      "{'9', '5'}\n",
      "{'6', '8'}\n",
      "{'7', '6'}\n",
      "{'7', '2', '4'}\n",
      "{'19', '17', '29', '38'}\n",
      "{'49', '33', '39', '13', '31'}\n",
      "{'44', '7', '12', '40', '13', '48'}\n",
      "{'12', '33', '20', '35'}\n",
      "{'2', '4', '14', '35'}\n",
      "{'21', '27', '90', '62', '78'}\n",
      "{'88', '3', '59', '73', '46'}\n",
      "{'88', '66', '3', '50', '93'}\n",
      "{'37', '53', '60', '35', '59'}\n",
      "{'44', '49', '17', '71'}\n",
      "{'3', '2'}\n",
      "{'9', '2', '8'}\n",
      "{'1', '0'}\n",
      "{'3', '2'}\n",
      "{'9', '2', '6', '7'}\n",
      "{'11', '44', '8', '29', '38', '49', '32', '46', '41', '42', '45', '14', '2', '26', '24'}\n",
      "{'11', '36', '23', '49', '30', '45', '46', '39', '41', '24', '32', '4', '33', '9', '2', '13', '42', '43'}\n",
      "{'28', '44', '17', '8', '18', '38', '16', '3', '14', '33', '5', '13', '42', '48'}\n",
      "{'6', '21', '48', '37', '29', '34', '45', '39', '3', '24', '5', '13', '42', '30'}\n",
      "{'31', '21', '48', '9', '49', '43', '40', '3', '41', '42', '22', '2', '26', '46'}\n",
      "{'10', '49', '19', '62', '39', '94', '86', '30', '82', '48', '43', '83', '0', '25', '58', '47', '35', '76', '85', '67', '99', '55', '14', '21', '56', '89', '60', '41', '52', '5', '13', '68'}\n",
      "{'19', '61', '86', '43', '82', '64', '81', '38', '34', '25', '90', '58', '59', '74', '85', '96', '54', '99', '20', '2', '77', '42', '91', '57', '66', '93', '13', '31', '68'}\n",
      "{'36', '49', '61', '51', '43', '30', '6', '65', '0', '29', '34', '70', '58', '47', '76', '28', '73', '85', '18', '63', '99', '1', '24', '71', '53', '57', '31'}\n",
      "{'45', '40', '86', '83', '64', '65', '29', '12', '70', '16', '58', '47', '74', '85', '37', '32', '55', '2', '77', '24', '92', '8', '7', '57', '93', '31', '46', '87'}\n",
      "{'97', '40', '61', '94', '86', '30', '64', '0', '38', '12', '16', '76', '23', '99', '55', '20', '1', '77', '24', '75', '91', '56', '60', '46', '84'}\n",
      "{'6', '5', '2', '0'}\n",
      "{'3', '4', '8', '0'}\n",
      "{'3', '5', '9', '0'}\n",
      "{'5', '4', '8', '0'}\n",
      "{'9', '2', '3', '0'}\n",
      "{'15', '21', '18', '0', '29', '38', '34', '8', '12', '10', '32', '25', '7', '20', '13', '42', '43'}\n",
      "{'11', '44', '36', '15', '8', '0', '34', '12', '19', '45', '25', '40', '41', '14', '2', '1', '43'}\n",
      "{'23', '37', '0', '29', '7', '34', '38', '12', '27', '16', '13', '47', '33', '20', '39', '28', '26'}\n",
      "{'6', '36', '44', '23', '37', '0', '26', '7', '10', '18', '43', '42', '35', '39', '13', '31', '24'}\n",
      "{'11', '15', '18', '0', '37', '7', '8', '49', '43', '25', '40', '47', '9', '1', '28', '31', '48'}\n",
      "{'15', '97', '45', '61', '9', '51', '78', '11', '65', '6', '17', '0', '34', '70', '27', '33', '59', '76', '18', '63', '14', '2', '1', '77', '24', '92', '91', '8', '56', '71', '89', '41', '5', '87'}\n",
      "{'36', '97', '10', '49', '19', '45', '40', '50', '9', '39', '43', '78', '11', '0', '29', '88', '12', '16', '90', '33', '22', '23', '18', '67', '32', '99', '20', '77', '91', '72', '3', '5', '46', '84'}\n",
      "{'15', '97', '10', '40', '94', '86', '30', '26', '0', '70', '58', '90', '35', '22', '98', '54', '23', '18', '99', '20', '2', '79', '21', '91', '72', '56', '53', '57', '66', '3', '52', '93', '13', '68'}\n",
      "{'97', '10', '40', '50', '39', '51', '26', '30', '43', '11', '65', '0', '29', '38', '80', '34', '90', '35', '74', '85', '98', '18', '67', '32', '99', '1', '42', '77', '79', '91', '72', '7', '57', '84'}\n",
      "{'61', '50', '39', '51', '83', '65', '6', '0', '38', '29', '70', '33', '35', '22', '85', '18', '67', '37', '63', '32', '14', '77', '21', '8', '89', '66', '41', '3', '52', '95', '13', '31', '68', '87'}\n"
     ]
    }
   ],
   "source": [
    "for filename in os.listdir(folder_path):\n",
    "\n",
    "    g = nx.read_adjlist(os.path.join(folder_path, filename))\n",
    "    print(dominant(g))\n"
   ]
  },
  {
   "cell_type": "code",
   "execution_count": 52,
   "metadata": {},
   "outputs": [],
   "source": [
    "def dominant(g):\n",
    "    \"\"\"\n",
    "        A Faire:         \n",
    "        - Ecrire une fonction qui retourne le dominant du graphe non dirigé g passé en parametre.\n",
    "        - cette fonction doit retourner la liste des noeuds d'un petit dominant de g\n",
    "\n",
    "        :param g: le graphe est donné dans le format networkx : https://networkx.github.io/documentation/stable/reference/classes/graph.html\n",
    "    \"\"\"\n",
    "    all_nodes = set(g)\n",
    "    neighbors_nb = {}\n",
    "    for node in all_nodes :\n",
    "        neighbors_nb[g.degree[node]] = node\n",
    "\n",
    "    if len(neighbors_nb) == 1 and (g.number_of_nodes() == g.number_of_edges()) : # Cycle graph case\n",
    "\n",
    "        return cycle_dominant(g)\n",
    "\n",
    "    else : # greedy algorithm\n",
    "\n",
    "        max_node = neighbors_nb[max(neighbors_nb.keys())]\n",
    "        dominating_set = {max_node}\n",
    "        all_nodes = all_nodes - set(g[max_node]) - {max_node}\n",
    "        g = g.subgraph(all_nodes)\n",
    "\n",
    "        while all_nodes :\n",
    "\n",
    "            neighbors_nb = {}\n",
    "            for node in all_nodes :\n",
    "                neighbors_nb[g.degree[node]] = node\n",
    "\n",
    "            if len(neighbors_nb) == 1 and (g.number_of_nodes() == g.number_of_edges()) : # Cycle graph case\n",
    "                dominating_set |= cycle_dominant(g)\n",
    "                return dominating_set\n",
    "\n",
    "            max_node = neighbors_nb[max(neighbors_nb.keys())]\n",
    "            dominating_set.add(max_node)\n",
    "            all_nodes = all_nodes - set(g[max_node]) - {max_node}\n",
    "            g = g.subgraph(all_nodes)\n",
    "\n",
    "    return dominating_set"
   ]
  },
  {
   "cell_type": "code",
   "execution_count": 21,
   "metadata": {},
   "outputs": [],
   "source": [
    "def cycle_dominant(g) :\n",
    "    dominant_set = set()\n",
    "    ordered_graph = order_cycle_graph(g)\n",
    "    for i in range(0, len(ordered_graph), 3):\n",
    "        dominant_set.add(ordered_graph[i])\n",
    "    return dominant_set"
   ]
  },
  {
   "cell_type": "code",
   "execution_count": 17,
   "metadata": {},
   "outputs": [],
   "source": [
    "def order_cycle_graph(g) :\n",
    "    result = [\"0\"]\n",
    "    result.append(list(g[\"0\"])[0])\n",
    "    while len(result) != g.order() :\n",
    "        neighbours = list(g[result[-1]])\n",
    "        neighbours.remove(result[-2])\n",
    "        result.append(neighbours[0])\n",
    "    return result"
   ]
  },
  {
   "cell_type": "code",
   "execution_count": 56,
   "metadata": {},
   "outputs": [],
   "source": [
    "g = nx.read_adjlist(os.path.join(folder_path, filename))"
   ]
  },
  {
   "cell_type": "code",
   "execution_count": 31,
   "metadata": {
    "collapsed": true
   },
   "outputs": [
    {
     "data": {
      "text/plain": [
       "['0',\n",
       " '44',\n",
       " '5',\n",
       " '12',\n",
       " '28',\n",
       " '46',\n",
       " '32',\n",
       " '17',\n",
       " '41',\n",
       " '25',\n",
       " '31',\n",
       " '9',\n",
       " '15',\n",
       " '26',\n",
       " '19',\n",
       " '20',\n",
       " '40',\n",
       " '35',\n",
       " '21',\n",
       " '2',\n",
       " '30',\n",
       " '42',\n",
       " '22',\n",
       " '14',\n",
       " '29',\n",
       " '23',\n",
       " '37',\n",
       " '13',\n",
       " '39',\n",
       " '11',\n",
       " '38',\n",
       " '3',\n",
       " '45',\n",
       " '34',\n",
       " '1',\n",
       " '4',\n",
       " '18',\n",
       " '49',\n",
       " '6',\n",
       " '8',\n",
       " '27',\n",
       " '24',\n",
       " '10',\n",
       " '48',\n",
       " '16',\n",
       " '43',\n",
       " '47',\n",
       " '36',\n",
       " '7',\n",
       " '33']"
      ]
     },
     "execution_count": 31,
     "metadata": {},
     "output_type": "execute_result"
    }
   ],
   "source": [
    "order_cycle_graph(g)"
   ]
  },
  {
   "cell_type": "code",
   "execution_count": 32,
   "metadata": {
    "collapsed": true
   },
   "outputs": [
    {
     "data": {
      "text/plain": [
       "{'0',\n",
       " '10',\n",
       " '12',\n",
       " '13',\n",
       " '15',\n",
       " '18',\n",
       " '20',\n",
       " '21',\n",
       " '25',\n",
       " '29',\n",
       " '32',\n",
       " '34',\n",
       " '38',\n",
       " '42',\n",
       " '43',\n",
       " '7',\n",
       " '8'}"
      ]
     },
     "execution_count": 32,
     "metadata": {},
     "output_type": "execute_result"
    }
   ],
   "source": [
    "cycle_dominant(g)"
   ]
  },
  {
   "cell_type": "code",
   "execution_count": null,
   "metadata": {},
   "outputs": [],
   "source": [
    "print(dominant(g))"
   ]
  },
  {
   "cell_type": "code",
   "execution_count": 57,
   "metadata": {},
   "outputs": [
    {
     "data": {
      "image/png": "[encoded data removed]",
      "text/plain": [
       "<Figure size 432x288 with 1 Axes>"
      ]
     },
     "metadata": {},
     "output_type": "display_data"
    }
   ],
   "source": [
    "nx.draw_networkx(g)\n",
    "plt.show()"
   ]
  },
  {
   "cell_type": "code",
   "execution_count": 62,
   "metadata": {},
   "outputs": [],
   "source": [
    "h = g.subgraph([\"0\",\"44\",\"5\",\"12\",\"28\",\"46\"])"
   ]
  },
  {
   "cell_type": "code",
   "execution_count": 63,
   "metadata": {},
   "outputs": [
    {
     "data": {
      "image/png": "[encoded data removed]",
      "text/plain": [
       "<Figure size 432x288 with 1 Axes>"
      ]
     },
     "metadata": {},
     "output_type": "display_data"
    }
   ],
   "source": [
    "nx.draw_networkx(h)\n",
    "plt.show()"
   ]
  },
  {
   "cell_type": "code",
   "execution_count": 40,
   "metadata": {},
   "outputs": [
    {
     "data": {
      "text/plain": [
       "[0, 1, 2, 3, 4, 5, 6, 7, 8]"
      ]
     },
     "execution_count": 40,
     "metadata": {},
     "output_type": "execute_result"
    }
   ],
   "source": [
    "a = [i for i in range(0,9)]\n",
    "a"
   ]
  },
  {
   "cell_type": "code",
   "execution_count": 42,
   "metadata": {},
   "outputs": [
    {
     "name": "stdout",
     "output_type": "stream",
     "text": [
      "0\n",
      "3\n",
      "6\n"
     ]
    }
   ],
   "source": [
    "for i in range(0, len(a),3) :\n",
    "    print(i)"
   ]
  },
  {
   "cell_type": "code",
   "execution_count": 44,
   "metadata": {},
   "outputs": [
    {
     "data": {
      "text/plain": [
       "{'1', '2', '3'}"
      ]
     },
     "execution_count": 44,
     "metadata": {},
     "output_type": "execute_result"
    }
   ],
   "source": [
    "a = set([\"1\", \"2\", \"3\"])\n",
    "a"
   ]
  },
  {
   "cell_type": "code",
   "execution_count": 50,
   "metadata": {},
   "outputs": [
    {
     "data": {
      "text/plain": [
       "{'4', '5', '6'}"
      ]
     },
     "execution_count": 50,
     "metadata": {},
     "output_type": "execute_result"
    }
   ],
   "source": [
    "b = set([\"4\", \"5\", \"6\"])\n",
    "b"
   ]
  },
  {
   "cell_type": "code",
   "execution_count": 51,
   "metadata": {},
   "outputs": [
    {
     "data": {
      "text/plain": [
       "{'1', '2', '3', '4', '5', '6'}"
      ]
     },
     "execution_count": 51,
     "metadata": {},
     "output_type": "execute_result"
    }
   ],
   "source": [
    "a |= b\n",
    "a"
   ]
  }
 ],
 "metadata": {
  "kernelspec": {
   "display_name": "Python 3",
   "language": "python",
   "name": "python3"
  },
  "language_info": {
   "codemirror_mode": {
    "name": "ipython",
    "version": 3
   },
   "file_extension": ".py",
   "mimetype": "text/x-python",
   "name": "python",
   "nbconvert_exporter": "python",
   "pygments_lexer": "ipython3",
   "version": "3.7.1"
  }
 },
 "nbformat": 4,
 "nbformat_minor": 2
}
