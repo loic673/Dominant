{
 "cells": [
  {
   "cell_type": "code",
   "execution_count": 1,
   "metadata": {},
   "outputs": [],
   "source": [
    "import networkx as nx\n",
    "import os\n",
    "import matplotlib.pyplot as plt\n",
    "from networkx.algorithms.dominating import is_dominating_set\n",
    "from networkx.algorithms.bipartite import is_bipartite\n",
    "from networkx.algorithms.bipartite.matching import *\n",
    "from networkx.algorithms.bipartite.covering import *"
   ]
  },
  {
   "cell_type": "code",
   "execution_count": 28,
   "metadata": {},
   "outputs": [],
   "source": [
    "folder_path = \"/Users/Loïc/Desktop/AlgoAvancé/Dominant/public_dataset/\"\n",
    "filename= \"36_50_reg.graph\""
   ]
  },
  {
   "cell_type": "code",
   "execution_count": null,
   "metadata": {},
   "outputs": [],
   "source": [
    "# for filename in os.listdir(folder_path):\n",
    "\n",
    "#     g = nx.read_adjlist(os.path.join(folder_path, filename))\n",
    "#     # print(\"is {} bipartite : {}\".format(filename, is_bipartite(g)))\n",
    "#     test = g.number_of_nodes() == g.number_of_edges()\n",
    "#     print(\"is {} circulent ? {}\".format(filename, test))"
   ]
  },
  {
   "cell_type": "code",
   "execution_count": null,
   "metadata": {},
   "outputs": [],
   "source": [
    "def dominant(g) :\n",
    "\n",
    "    all_nodes = set(g)\n",
    "\n",
    "    neighbors_nb = {}\n",
    "    for node in all_nodes :\n",
    "        neighbors_nb[g.degree[node]] = node\n",
    "\n",
    "    if len(neighbors_nb) == 1 and (g.number_of_nodes() == g.number_of_edges()) : # Circulent graph case\n",
    "        print(\"Circulent\")\n",
    "\n",
    "        print(type(g.nodes))\n",
    "        print(g.nodes)\n",
    "        next_node = 1\n",
    "        dominating_set = {next_node}\n",
    "        g.remove_nodes_from(list(g[next_node]))\n",
    "        g.remove_node(next_node)\n",
    "        all_nodes = set(g)\n",
    "\n",
    "        end = False #flag to stop the 'try' chain\n",
    "\n",
    "\n",
    "        while all_nodes :\n",
    "\n",
    "            def nb_1() :\n",
    "                print(1)\n",
    "                try :\n",
    "                    return list(g.adj[next_node])[0]\n",
    "                except : #if no more node to go\n",
    "                    end = True\n",
    "\n",
    "            def nb_2(next_node, first_neighbor) :\n",
    "                print(2)\n",
    "                try :\n",
    "                    neighbors = list(g.adj[first_neighbor])\n",
    "                    print(next_node)\n",
    "                    print(neighbors)\n",
    "                    neighbors.remove(next_node)\n",
    "                    print(neighbors)\n",
    "                    return neighbors[0]\n",
    "                except : #if no more node to go\n",
    "                    print(\"error\")\n",
    "                    end = True\n",
    "                    next_node = first_neighbor\n",
    "\n",
    "            def f_next_node(first_neighbor, second_neighbor) :\n",
    "                print(3)\n",
    "                try :\n",
    "                    neighbors = list(g.adj[second_neighbor])\n",
    "                    neighbors.remove(first_neighbor)\n",
    "                    return neighbors[0]\n",
    "                except : #if no more node to go\n",
    "                    end = True\n",
    "                    next_node = second_neighbor\n",
    "\n",
    "            # try chain\n",
    "            first_neighbor = nb_1()\n",
    "            print(first_neighbor)\n",
    "            if not end :\n",
    "                second_neighbor = nb_2(next_node, first_neighbor)\n",
    "                print(second_neighbor)\n",
    "            if not end :\n",
    "                next_node = f_next_node(first_neighbor, second_neighbor)\n",
    "                print(next_node)\n",
    "\n",
    "            dominating_set.add(next_node)\n",
    "            g.remove_nodes_from(list(g[next_node]))\n",
    "            g.remove_node(next_node)\n",
    "            all_nodes = set(g)\n",
    "            print(all_nodes)\n",
    "\n",
    "    else :\n",
    "        max_node = neighbors_nb[max(neighbors_nb.keys())]\n",
    "        dominating_set = {max_node}\n",
    "        all_nodes = all_nodes - set(g[max_node]) - {max_node}\n",
    "\n",
    "        while all_nodes :\n",
    "\n",
    "            neighbors_nb = {}\n",
    "            for node in all_nodes :\n",
    "                neighbors_nb[g.degree[node]] = node\n",
    "\n",
    "            max_node = neighbors_nb[max(neighbors_nb.keys())]\n",
    "            dominating_set.add(max_node)\n",
    "            all_nodes = all_nodes - set(g[max_node]) - {max_node}\n",
    "    \n",
    "    return dominating_set"
   ]
  },
  {
   "cell_type": "code",
   "execution_count": 29,
   "metadata": {},
   "outputs": [],
   "source": [
    "g = nx.read_adjlist(os.path.join(folder_path, filename))"
   ]
  },
  {
   "cell_type": "code",
   "execution_count": 21,
   "metadata": {},
   "outputs": [],
   "source": [
    "def cycle_dominant(g) :\n",
    "    dominant_set = set()\n",
    "    ordered_graph = order_cycle_graph(g)\n",
    "    for i in range(0, len(ordered_graph), 3):\n",
    "        dominant_set.add(ordered_graph[i])\n",
    "    return dominant_set"
   ]
  },
  {
   "cell_type": "code",
   "execution_count": 17,
   "metadata": {},
   "outputs": [],
   "source": [
    "def order_cycle_graph(g) :\n",
    "    result = [\"0\"]\n",
    "    result.append(list(g[\"0\"])[0])\n",
    "    while len(result) != g.order() :\n",
    "        neighbours = list(g[result[-1]])\n",
    "        neighbours.remove(result[-2])\n",
    "        result.append(neighbours[0])\n",
    "    return result"
   ]
  },
  {
   "cell_type": "code",
   "execution_count": 31,
   "metadata": {},
   "outputs": [
    {
     "data": {
      "text/plain": [
       "['0',\n",
       " '44',\n",
       " '5',\n",
       " '12',\n",
       " '28',\n",
       " '46',\n",
       " '32',\n",
       " '17',\n",
       " '41',\n",
       " '25',\n",
       " '31',\n",
       " '9',\n",
       " '15',\n",
       " '26',\n",
       " '19',\n",
       " '20',\n",
       " '40',\n",
       " '35',\n",
       " '21',\n",
       " '2',\n",
       " '30',\n",
       " '42',\n",
       " '22',\n",
       " '14',\n",
       " '29',\n",
       " '23',\n",
       " '37',\n",
       " '13',\n",
       " '39',\n",
       " '11',\n",
       " '38',\n",
       " '3',\n",
       " '45',\n",
       " '34',\n",
       " '1',\n",
       " '4',\n",
       " '18',\n",
       " '49',\n",
       " '6',\n",
       " '8',\n",
       " '27',\n",
       " '24',\n",
       " '10',\n",
       " '48',\n",
       " '16',\n",
       " '43',\n",
       " '47',\n",
       " '36',\n",
       " '7',\n",
       " '33']"
      ]
     },
     "execution_count": 31,
     "metadata": {},
     "output_type": "execute_result"
    }
   ],
   "source": [
    "order_cycle_graph(g)"
   ]
  },
  {
   "cell_type": "code",
   "execution_count": 32,
   "metadata": {},
   "outputs": [
    {
     "data": {
      "text/plain": [
       "{'0',\n",
       " '10',\n",
       " '12',\n",
       " '13',\n",
       " '15',\n",
       " '18',\n",
       " '20',\n",
       " '21',\n",
       " '25',\n",
       " '29',\n",
       " '32',\n",
       " '34',\n",
       " '38',\n",
       " '42',\n",
       " '43',\n",
       " '7',\n",
       " '8'}"
      ]
     },
     "execution_count": 32,
     "metadata": {},
     "output_type": "execute_result"
    }
   ],
   "source": [
    "cycle_dominant(g)"
   ]
  },
  {
   "cell_type": "code",
   "execution_count": null,
   "metadata": {},
   "outputs": [],
   "source": [
    "print(dominant(g))"
   ]
  },
  {
   "cell_type": "code",
   "execution_count": 30,
   "metadata": {},
   "outputs": [
    {
     "data": {
      "image/png": "[encoded data removed]",
      "text/plain": [
       "<Figure size 432x288 with 1 Axes>"
      ]
     },
     "metadata": {},
     "output_type": "display_data"
    }
   ],
   "source": [
    "nx.draw_networkx(g)\n",
    "plt.show()"
   ]
  }
 ],
 "metadata": {
  "kernelspec": {
   "display_name": "Python 3",
   "language": "python",
   "name": "python3"
  },
  "language_info": {
   "codemirror_mode": {
    "name": "ipython",
    "version": 3
   },
   "file_extension": ".py",
   "mimetype": "text/x-python",
   "name": "python",
   "nbconvert_exporter": "python",
   "pygments_lexer": "ipython3",
   "version": "3.7.1"
  }
 },
 "nbformat": 4,
 "nbformat_minor": 2
}
